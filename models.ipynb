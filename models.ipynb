{
  "nbformat": 4,
  "nbformat_minor": 0,
  "metadata": {
    "colab": {
      "provenance": []
    },
    "kernelspec": {
      "name": "python3",
      "display_name": "Python 3"
    },
    "language_info": {
      "name": "python"
    }
  },
  "cells": [
    {
      "cell_type": "markdown",
      "source": [
        "\n",
        "\n",
        "#Importation des bibliothéques\n",
        "\n",
        "\n"
      ],
      "metadata": {
        "id": "0KYUJISbBhH1"
      }
    },
    {
      "cell_type": "markdown",
      "source": [],
      "metadata": {
        "id": "84T-SoEaTgcY"
      }
    },
    {
      "cell_type": "code",
      "execution_count": null,
      "metadata": {
        "id": "aHi7R3XHAuLZ"
      },
      "outputs": [],
      "source": [
        "import pandas as pd\n",
        "from keras.applications.vgg16 import VGG16, preprocess_input\n",
        "from keras.preprocessing import image\n",
        "import numpy as np\n",
        "from keras.models import Model\n",
        "from sklearn.model_selection import train_test_split\n",
        "from sklearn.linear_model import LinearRegression\n",
        "from sklearn.model_selection import train_test_split\n",
        "from sklearn.model_selection import train_test_split\n",
        "from sklearn.preprocessing import StandardScaler\n",
        "from sklearn.ensemble import RandomForestRegressor\n",
        "from sklearn.metrics import mean_squared_error, mean_absolute_error, r2_score\n",
        "import matplotlib.pyplot as plt\n",
        "import requests\n",
        "from io import BytesIO\n",
        "from keras.applications.vgg16 import VGG16, preprocess_input\n",
        "from keras.preprocessing.image import load_img, img_to_array\n",
        "from keras.models import Model\n",
        "import numpy as np\n",
        "import requests\n",
        "import hashlib\n"
      ]
    },
    {
      "cell_type": "markdown",
      "source": [
        "#Récupération du dataset néttoyé"
      ],
      "metadata": {
        "id": "q3NMd1C9B1Ae"
      }
    },
    {
      "cell_type": "code",
      "source": [
        "cleaned_df = pd.read_csv(\"cleaned_data.csv\")\n",
        "cleaned_df"
      ],
      "metadata": {
        "colab": {
          "base_uri": "https://localhost:8080/",
          "height": 443
        },
        "id": "YdUxrHCvBxLe",
        "outputId": "53f6bf64-3604-4fb8-9c2b-bd164f9ac209"
      },
      "execution_count": null,
      "outputs": [
        {
          "output_type": "execute_result",
          "data": {
            "text/plain": [
              "      likes  hash_count  at_count       PC1        PC2       PC3       PC4  \\\n",
              "0    111607           1         4  0.343368   1.513166  4.196563 -3.272964   \n",
              "1    213879           1         2 -1.465215  -3.112650 -2.397117  0.573192   \n",
              "2     98906           0         1 -1.252858  -2.199743 -1.356287  0.581660   \n",
              "3    102748           0         2 -1.327078  -2.943203 -2.141952  0.568609   \n",
              "4    174139           1         2 -1.339071  -3.032805 -2.577601  0.503254   \n",
              "..      ...         ...       ...       ...        ...       ...       ...   \n",
              "223  228248           1         2 -1.163725  -2.249420 -0.373509  0.617531   \n",
              "224  331201           0         2 -1.204928  -2.179248 -1.831026 -0.446576   \n",
              "225  331565           0         3  2.396401  13.909176 -5.101631  1.065974   \n",
              "226  277650           0         6 -0.030389   4.512559  4.371739  2.222121   \n",
              "227  557499           1         3 -0.791829  -2.951248 -2.850022  0.431099   \n",
              "\n",
              "          PC5       PC6       PC7  ...       PC9      PC10  year  month  day  \\\n",
              "0    1.654780  0.935115 -3.424922  ... -2.111380  1.729911  2024      4   22   \n",
              "1    1.103260  0.702946 -0.558626  ...  1.229427 -1.914897  2024      4   19   \n",
              "2    1.019187  0.581879 -0.280167  ...  0.490072 -1.197387  2024      4   19   \n",
              "3    0.699506  0.660703 -0.590203  ...  0.646484 -1.382502  2024      4   18   \n",
              "4    1.132788  0.605190 -0.508079  ...  1.347221 -1.897001  2024      4   17   \n",
              "..        ...       ...       ...  ...       ...       ...   ...    ...  ...   \n",
              "223 -0.034829 -0.008099 -0.596904  ... -0.014118  0.090305  2023      6   22   \n",
              "224  1.203425  0.167350 -1.919619  ...  0.874221 -1.530820  2023      6   21   \n",
              "225 -2.492412  2.644548 -0.234506  ... -1.189035  1.886509  2023      6   20   \n",
              "226 -1.718103 -0.825179 -0.355461  ... -4.292550  1.857781  2023      6   19   \n",
              "227  1.764352  1.085560 -0.547182  ...  1.624372 -1.661075  2023      6   16   \n",
              "\n",
              "     hour  day_of_week  days_since_now  type_p  type_reel  \n",
              "0      16            0               9   False       True  \n",
              "1      21            4              12   False       True  \n",
              "2      16            4              12    True      False  \n",
              "3      16            3              13   False       True  \n",
              "4      16            2              14   False       True  \n",
              "..    ...          ...             ...     ...        ...  \n",
              "223    16            3             314   False       True  \n",
              "224    20            2             315   False       True  \n",
              "225    16            1             316    True      False  \n",
              "226    16            0             317    True      False  \n",
              "227    16            4             320   False       True  \n",
              "\n",
              "[228 rows x 21 columns]"
            ],
            "text/html": [
              "\n",
              "  <div id=\"df-d4efe942-ff22-4c13-9ba6-1de8d83d73e2\" class=\"colab-df-container\">\n",
              "    <div>\n",
              "<style scoped>\n",
              "    .dataframe tbody tr th:only-of-type {\n",
              "        vertical-align: middle;\n",
              "    }\n",
              "\n",
              "    .dataframe tbody tr th {\n",
              "        vertical-align: top;\n",
              "    }\n",
              "\n",
              "    .dataframe thead th {\n",
              "        text-align: right;\n",
              "    }\n",
              "</style>\n",
              "<table border=\"1\" class=\"dataframe\">\n",
              "  <thead>\n",
              "    <tr style=\"text-align: right;\">\n",
              "      <th></th>\n",
              "      <th>likes</th>\n",
              "      <th>hash_count</th>\n",
              "      <th>at_count</th>\n",
              "      <th>PC1</th>\n",
              "      <th>PC2</th>\n",
              "      <th>PC3</th>\n",
              "      <th>PC4</th>\n",
              "      <th>PC5</th>\n",
              "      <th>PC6</th>\n",
              "      <th>PC7</th>\n",
              "      <th>...</th>\n",
              "      <th>PC9</th>\n",
              "      <th>PC10</th>\n",
              "      <th>year</th>\n",
              "      <th>month</th>\n",
              "      <th>day</th>\n",
              "      <th>hour</th>\n",
              "      <th>day_of_week</th>\n",
              "      <th>days_since_now</th>\n",
              "      <th>type_p</th>\n",
              "      <th>type_reel</th>\n",
              "    </tr>\n",
              "  </thead>\n",
              "  <tbody>\n",
              "    <tr>\n",
              "      <th>0</th>\n",
              "      <td>111607</td>\n",
              "      <td>1</td>\n",
              "      <td>4</td>\n",
              "      <td>0.343368</td>\n",
              "      <td>1.513166</td>\n",
              "      <td>4.196563</td>\n",
              "      <td>-3.272964</td>\n",
              "      <td>1.654780</td>\n",
              "      <td>0.935115</td>\n",
              "      <td>-3.424922</td>\n",
              "      <td>...</td>\n",
              "      <td>-2.111380</td>\n",
              "      <td>1.729911</td>\n",
              "      <td>2024</td>\n",
              "      <td>4</td>\n",
              "      <td>22</td>\n",
              "      <td>16</td>\n",
              "      <td>0</td>\n",
              "      <td>9</td>\n",
              "      <td>False</td>\n",
              "      <td>True</td>\n",
              "    </tr>\n",
              "    <tr>\n",
              "      <th>1</th>\n",
              "      <td>213879</td>\n",
              "      <td>1</td>\n",
              "      <td>2</td>\n",
              "      <td>-1.465215</td>\n",
              "      <td>-3.112650</td>\n",
              "      <td>-2.397117</td>\n",
              "      <td>0.573192</td>\n",
              "      <td>1.103260</td>\n",
              "      <td>0.702946</td>\n",
              "      <td>-0.558626</td>\n",
              "      <td>...</td>\n",
              "      <td>1.229427</td>\n",
              "      <td>-1.914897</td>\n",
              "      <td>2024</td>\n",
              "      <td>4</td>\n",
              "      <td>19</td>\n",
              "      <td>21</td>\n",
              "      <td>4</td>\n",
              "      <td>12</td>\n",
              "      <td>False</td>\n",
              "      <td>True</td>\n",
              "    </tr>\n",
              "    <tr>\n",
              "      <th>2</th>\n",
              "      <td>98906</td>\n",
              "      <td>0</td>\n",
              "      <td>1</td>\n",
              "      <td>-1.252858</td>\n",
              "      <td>-2.199743</td>\n",
              "      <td>-1.356287</td>\n",
              "      <td>0.581660</td>\n",
              "      <td>1.019187</td>\n",
              "      <td>0.581879</td>\n",
              "      <td>-0.280167</td>\n",
              "      <td>...</td>\n",
              "      <td>0.490072</td>\n",
              "      <td>-1.197387</td>\n",
              "      <td>2024</td>\n",
              "      <td>4</td>\n",
              "      <td>19</td>\n",
              "      <td>16</td>\n",
              "      <td>4</td>\n",
              "      <td>12</td>\n",
              "      <td>True</td>\n",
              "      <td>False</td>\n",
              "    </tr>\n",
              "    <tr>\n",
              "      <th>3</th>\n",
              "      <td>102748</td>\n",
              "      <td>0</td>\n",
              "      <td>2</td>\n",
              "      <td>-1.327078</td>\n",
              "      <td>-2.943203</td>\n",
              "      <td>-2.141952</td>\n",
              "      <td>0.568609</td>\n",
              "      <td>0.699506</td>\n",
              "      <td>0.660703</td>\n",
              "      <td>-0.590203</td>\n",
              "      <td>...</td>\n",
              "      <td>0.646484</td>\n",
              "      <td>-1.382502</td>\n",
              "      <td>2024</td>\n",
              "      <td>4</td>\n",
              "      <td>18</td>\n",
              "      <td>16</td>\n",
              "      <td>3</td>\n",
              "      <td>13</td>\n",
              "      <td>False</td>\n",
              "      <td>True</td>\n",
              "    </tr>\n",
              "    <tr>\n",
              "      <th>4</th>\n",
              "      <td>174139</td>\n",
              "      <td>1</td>\n",
              "      <td>2</td>\n",
              "      <td>-1.339071</td>\n",
              "      <td>-3.032805</td>\n",
              "      <td>-2.577601</td>\n",
              "      <td>0.503254</td>\n",
              "      <td>1.132788</td>\n",
              "      <td>0.605190</td>\n",
              "      <td>-0.508079</td>\n",
              "      <td>...</td>\n",
              "      <td>1.347221</td>\n",
              "      <td>-1.897001</td>\n",
              "      <td>2024</td>\n",
              "      <td>4</td>\n",
              "      <td>17</td>\n",
              "      <td>16</td>\n",
              "      <td>2</td>\n",
              "      <td>14</td>\n",
              "      <td>False</td>\n",
              "      <td>True</td>\n",
              "    </tr>\n",
              "    <tr>\n",
              "      <th>...</th>\n",
              "      <td>...</td>\n",
              "      <td>...</td>\n",
              "      <td>...</td>\n",
              "      <td>...</td>\n",
              "      <td>...</td>\n",
              "      <td>...</td>\n",
              "      <td>...</td>\n",
              "      <td>...</td>\n",
              "      <td>...</td>\n",
              "      <td>...</td>\n",
              "      <td>...</td>\n",
              "      <td>...</td>\n",
              "      <td>...</td>\n",
              "      <td>...</td>\n",
              "      <td>...</td>\n",
              "      <td>...</td>\n",
              "      <td>...</td>\n",
              "      <td>...</td>\n",
              "      <td>...</td>\n",
              "      <td>...</td>\n",
              "      <td>...</td>\n",
              "    </tr>\n",
              "    <tr>\n",
              "      <th>223</th>\n",
              "      <td>228248</td>\n",
              "      <td>1</td>\n",
              "      <td>2</td>\n",
              "      <td>-1.163725</td>\n",
              "      <td>-2.249420</td>\n",
              "      <td>-0.373509</td>\n",
              "      <td>0.617531</td>\n",
              "      <td>-0.034829</td>\n",
              "      <td>-0.008099</td>\n",
              "      <td>-0.596904</td>\n",
              "      <td>...</td>\n",
              "      <td>-0.014118</td>\n",
              "      <td>0.090305</td>\n",
              "      <td>2023</td>\n",
              "      <td>6</td>\n",
              "      <td>22</td>\n",
              "      <td>16</td>\n",
              "      <td>3</td>\n",
              "      <td>314</td>\n",
              "      <td>False</td>\n",
              "      <td>True</td>\n",
              "    </tr>\n",
              "    <tr>\n",
              "      <th>224</th>\n",
              "      <td>331201</td>\n",
              "      <td>0</td>\n",
              "      <td>2</td>\n",
              "      <td>-1.204928</td>\n",
              "      <td>-2.179248</td>\n",
              "      <td>-1.831026</td>\n",
              "      <td>-0.446576</td>\n",
              "      <td>1.203425</td>\n",
              "      <td>0.167350</td>\n",
              "      <td>-1.919619</td>\n",
              "      <td>...</td>\n",
              "      <td>0.874221</td>\n",
              "      <td>-1.530820</td>\n",
              "      <td>2023</td>\n",
              "      <td>6</td>\n",
              "      <td>21</td>\n",
              "      <td>20</td>\n",
              "      <td>2</td>\n",
              "      <td>315</td>\n",
              "      <td>False</td>\n",
              "      <td>True</td>\n",
              "    </tr>\n",
              "    <tr>\n",
              "      <th>225</th>\n",
              "      <td>331565</td>\n",
              "      <td>0</td>\n",
              "      <td>3</td>\n",
              "      <td>2.396401</td>\n",
              "      <td>13.909176</td>\n",
              "      <td>-5.101631</td>\n",
              "      <td>1.065974</td>\n",
              "      <td>-2.492412</td>\n",
              "      <td>2.644548</td>\n",
              "      <td>-0.234506</td>\n",
              "      <td>...</td>\n",
              "      <td>-1.189035</td>\n",
              "      <td>1.886509</td>\n",
              "      <td>2023</td>\n",
              "      <td>6</td>\n",
              "      <td>20</td>\n",
              "      <td>16</td>\n",
              "      <td>1</td>\n",
              "      <td>316</td>\n",
              "      <td>True</td>\n",
              "      <td>False</td>\n",
              "    </tr>\n",
              "    <tr>\n",
              "      <th>226</th>\n",
              "      <td>277650</td>\n",
              "      <td>0</td>\n",
              "      <td>6</td>\n",
              "      <td>-0.030389</td>\n",
              "      <td>4.512559</td>\n",
              "      <td>4.371739</td>\n",
              "      <td>2.222121</td>\n",
              "      <td>-1.718103</td>\n",
              "      <td>-0.825179</td>\n",
              "      <td>-0.355461</td>\n",
              "      <td>...</td>\n",
              "      <td>-4.292550</td>\n",
              "      <td>1.857781</td>\n",
              "      <td>2023</td>\n",
              "      <td>6</td>\n",
              "      <td>19</td>\n",
              "      <td>16</td>\n",
              "      <td>0</td>\n",
              "      <td>317</td>\n",
              "      <td>True</td>\n",
              "      <td>False</td>\n",
              "    </tr>\n",
              "    <tr>\n",
              "      <th>227</th>\n",
              "      <td>557499</td>\n",
              "      <td>1</td>\n",
              "      <td>3</td>\n",
              "      <td>-0.791829</td>\n",
              "      <td>-2.951248</td>\n",
              "      <td>-2.850022</td>\n",
              "      <td>0.431099</td>\n",
              "      <td>1.764352</td>\n",
              "      <td>1.085560</td>\n",
              "      <td>-0.547182</td>\n",
              "      <td>...</td>\n",
              "      <td>1.624372</td>\n",
              "      <td>-1.661075</td>\n",
              "      <td>2023</td>\n",
              "      <td>6</td>\n",
              "      <td>16</td>\n",
              "      <td>16</td>\n",
              "      <td>4</td>\n",
              "      <td>320</td>\n",
              "      <td>False</td>\n",
              "      <td>True</td>\n",
              "    </tr>\n",
              "  </tbody>\n",
              "</table>\n",
              "<p>228 rows × 21 columns</p>\n",
              "</div>\n",
              "    <div class=\"colab-df-buttons\">\n",
              "\n",
              "  <div class=\"colab-df-container\">\n",
              "    <button class=\"colab-df-convert\" onclick=\"convertToInteractive('df-d4efe942-ff22-4c13-9ba6-1de8d83d73e2')\"\n",
              "            title=\"Convert this dataframe to an interactive table.\"\n",
              "            style=\"display:none;\">\n",
              "\n",
              "  <svg xmlns=\"http://www.w3.org/2000/svg\" height=\"24px\" viewBox=\"0 -960 960 960\">\n",
              "    <path d=\"M120-120v-720h720v720H120Zm60-500h600v-160H180v160Zm220 220h160v-160H400v160Zm0 220h160v-160H400v160ZM180-400h160v-160H180v160Zm440 0h160v-160H620v160ZM180-180h160v-160H180v160Zm440 0h160v-160H620v160Z\"/>\n",
              "  </svg>\n",
              "    </button>\n",
              "\n",
              "  <style>\n",
              "    .colab-df-container {\n",
              "      display:flex;\n",
              "      gap: 12px;\n",
              "    }\n",
              "\n",
              "    .colab-df-convert {\n",
              "      background-color: #E8F0FE;\n",
              "      border: none;\n",
              "      border-radius: 50%;\n",
              "      cursor: pointer;\n",
              "      display: none;\n",
              "      fill: #1967D2;\n",
              "      height: 32px;\n",
              "      padding: 0 0 0 0;\n",
              "      width: 32px;\n",
              "    }\n",
              "\n",
              "    .colab-df-convert:hover {\n",
              "      background-color: #E2EBFA;\n",
              "      box-shadow: 0px 1px 2px rgba(60, 64, 67, 0.3), 0px 1px 3px 1px rgba(60, 64, 67, 0.15);\n",
              "      fill: #174EA6;\n",
              "    }\n",
              "\n",
              "    .colab-df-buttons div {\n",
              "      margin-bottom: 4px;\n",
              "    }\n",
              "\n",
              "    [theme=dark] .colab-df-convert {\n",
              "      background-color: #3B4455;\n",
              "      fill: #D2E3FC;\n",
              "    }\n",
              "\n",
              "    [theme=dark] .colab-df-convert:hover {\n",
              "      background-color: #434B5C;\n",
              "      box-shadow: 0px 1px 3px 1px rgba(0, 0, 0, 0.15);\n",
              "      filter: drop-shadow(0px 1px 2px rgba(0, 0, 0, 0.3));\n",
              "      fill: #FFFFFF;\n",
              "    }\n",
              "  </style>\n",
              "\n",
              "    <script>\n",
              "      const buttonEl =\n",
              "        document.querySelector('#df-d4efe942-ff22-4c13-9ba6-1de8d83d73e2 button.colab-df-convert');\n",
              "      buttonEl.style.display =\n",
              "        google.colab.kernel.accessAllowed ? 'block' : 'none';\n",
              "\n",
              "      async function convertToInteractive(key) {\n",
              "        const element = document.querySelector('#df-d4efe942-ff22-4c13-9ba6-1de8d83d73e2');\n",
              "        const dataTable =\n",
              "          await google.colab.kernel.invokeFunction('convertToInteractive',\n",
              "                                                    [key], {});\n",
              "        if (!dataTable) return;\n",
              "\n",
              "        const docLinkHtml = 'Like what you see? Visit the ' +\n",
              "          '<a target=\"_blank\" href=https://colab.research.google.com/notebooks/data_table.ipynb>data table notebook</a>'\n",
              "          + ' to learn more about interactive tables.';\n",
              "        element.innerHTML = '';\n",
              "        dataTable['output_type'] = 'display_data';\n",
              "        await google.colab.output.renderOutput(dataTable, element);\n",
              "        const docLink = document.createElement('div');\n",
              "        docLink.innerHTML = docLinkHtml;\n",
              "        element.appendChild(docLink);\n",
              "      }\n",
              "    </script>\n",
              "  </div>\n",
              "\n",
              "\n",
              "<div id=\"df-81e208c1-f968-42bd-93f0-858714ff3bdb\">\n",
              "  <button class=\"colab-df-quickchart\" onclick=\"quickchart('df-81e208c1-f968-42bd-93f0-858714ff3bdb')\"\n",
              "            title=\"Suggest charts\"\n",
              "            style=\"display:none;\">\n",
              "\n",
              "<svg xmlns=\"http://www.w3.org/2000/svg\" height=\"24px\"viewBox=\"0 0 24 24\"\n",
              "     width=\"24px\">\n",
              "    <g>\n",
              "        <path d=\"M19 3H5c-1.1 0-2 .9-2 2v14c0 1.1.9 2 2 2h14c1.1 0 2-.9 2-2V5c0-1.1-.9-2-2-2zM9 17H7v-7h2v7zm4 0h-2V7h2v10zm4 0h-2v-4h2v4z\"/>\n",
              "    </g>\n",
              "</svg>\n",
              "  </button>\n",
              "\n",
              "<style>\n",
              "  .colab-df-quickchart {\n",
              "      --bg-color: #E8F0FE;\n",
              "      --fill-color: #1967D2;\n",
              "      --hover-bg-color: #E2EBFA;\n",
              "      --hover-fill-color: #174EA6;\n",
              "      --disabled-fill-color: #AAA;\n",
              "      --disabled-bg-color: #DDD;\n",
              "  }\n",
              "\n",
              "  [theme=dark] .colab-df-quickchart {\n",
              "      --bg-color: #3B4455;\n",
              "      --fill-color: #D2E3FC;\n",
              "      --hover-bg-color: #434B5C;\n",
              "      --hover-fill-color: #FFFFFF;\n",
              "      --disabled-bg-color: #3B4455;\n",
              "      --disabled-fill-color: #666;\n",
              "  }\n",
              "\n",
              "  .colab-df-quickchart {\n",
              "    background-color: var(--bg-color);\n",
              "    border: none;\n",
              "    border-radius: 50%;\n",
              "    cursor: pointer;\n",
              "    display: none;\n",
              "    fill: var(--fill-color);\n",
              "    height: 32px;\n",
              "    padding: 0;\n",
              "    width: 32px;\n",
              "  }\n",
              "\n",
              "  .colab-df-quickchart:hover {\n",
              "    background-color: var(--hover-bg-color);\n",
              "    box-shadow: 0 1px 2px rgba(60, 64, 67, 0.3), 0 1px 3px 1px rgba(60, 64, 67, 0.15);\n",
              "    fill: var(--button-hover-fill-color);\n",
              "  }\n",
              "\n",
              "  .colab-df-quickchart-complete:disabled,\n",
              "  .colab-df-quickchart-complete:disabled:hover {\n",
              "    background-color: var(--disabled-bg-color);\n",
              "    fill: var(--disabled-fill-color);\n",
              "    box-shadow: none;\n",
              "  }\n",
              "\n",
              "  .colab-df-spinner {\n",
              "    border: 2px solid var(--fill-color);\n",
              "    border-color: transparent;\n",
              "    border-bottom-color: var(--fill-color);\n",
              "    animation:\n",
              "      spin 1s steps(1) infinite;\n",
              "  }\n",
              "\n",
              "  @keyframes spin {\n",
              "    0% {\n",
              "      border-color: transparent;\n",
              "      border-bottom-color: var(--fill-color);\n",
              "      border-left-color: var(--fill-color);\n",
              "    }\n",
              "    20% {\n",
              "      border-color: transparent;\n",
              "      border-left-color: var(--fill-color);\n",
              "      border-top-color: var(--fill-color);\n",
              "    }\n",
              "    30% {\n",
              "      border-color: transparent;\n",
              "      border-left-color: var(--fill-color);\n",
              "      border-top-color: var(--fill-color);\n",
              "      border-right-color: var(--fill-color);\n",
              "    }\n",
              "    40% {\n",
              "      border-color: transparent;\n",
              "      border-right-color: var(--fill-color);\n",
              "      border-top-color: var(--fill-color);\n",
              "    }\n",
              "    60% {\n",
              "      border-color: transparent;\n",
              "      border-right-color: var(--fill-color);\n",
              "    }\n",
              "    80% {\n",
              "      border-color: transparent;\n",
              "      border-right-color: var(--fill-color);\n",
              "      border-bottom-color: var(--fill-color);\n",
              "    }\n",
              "    90% {\n",
              "      border-color: transparent;\n",
              "      border-bottom-color: var(--fill-color);\n",
              "    }\n",
              "  }\n",
              "</style>\n",
              "\n",
              "  <script>\n",
              "    async function quickchart(key) {\n",
              "      const quickchartButtonEl =\n",
              "        document.querySelector('#' + key + ' button');\n",
              "      quickchartButtonEl.disabled = true;  // To prevent multiple clicks.\n",
              "      quickchartButtonEl.classList.add('colab-df-spinner');\n",
              "      try {\n",
              "        const charts = await google.colab.kernel.invokeFunction(\n",
              "            'suggestCharts', [key], {});\n",
              "      } catch (error) {\n",
              "        console.error('Error during call to suggestCharts:', error);\n",
              "      }\n",
              "      quickchartButtonEl.classList.remove('colab-df-spinner');\n",
              "      quickchartButtonEl.classList.add('colab-df-quickchart-complete');\n",
              "    }\n",
              "    (() => {\n",
              "      let quickchartButtonEl =\n",
              "        document.querySelector('#df-81e208c1-f968-42bd-93f0-858714ff3bdb button');\n",
              "      quickchartButtonEl.style.display =\n",
              "        google.colab.kernel.accessAllowed ? 'block' : 'none';\n",
              "    })();\n",
              "  </script>\n",
              "</div>\n",
              "    </div>\n",
              "  </div>\n"
            ],
            "application/vnd.google.colaboratory.intrinsic+json": {
              "type": "dataframe",
              "variable_name": "cleaned_df"
            }
          },
          "metadata": {},
          "execution_count": 3
        }
      ]
    },
    {
      "cell_type": "code",
      "source": [
        "cleaned_df.describe()"
      ],
      "metadata": {
        "id": "RFuZkqSrCYFo"
      },
      "execution_count": null,
      "outputs": []
    },
    {
      "cell_type": "markdown",
      "source": [
        "#Models\n",
        "\n"
      ],
      "metadata": {
        "id": "appBLPrwCQyi"
      }
    },
    {
      "cell_type": "markdown",
      "source": [
        "#Linear Regression"
      ],
      "metadata": {
        "id": "IQMmNfA-DaPC"
      }
    },
    {
      "cell_type": "code",
      "source": [
        "# Séparation des features et de la target\n",
        "X = cleaned_df.drop('likes', axis=1)\n",
        "y = cleaned_df['likes']\n",
        "\n",
        "# Division en données d'entraînement et de test\n",
        "X_train, X_test, y_train, y_test = train_test_split(X, y, test_size=0.2, random_state=42)\n",
        "\n",
        "# Standardisation des données\n",
        "scaler = StandardScaler()\n",
        "X_train_scaled = scaler.fit_transform(X_train)\n",
        "X_test_scaled = scaler.transform(X_test)\n",
        "\n",
        "X_train_scaled.shape, X_test_scaled.shape, y_train.shape, y_test.shape\n"
      ],
      "metadata": {
        "colab": {
          "base_uri": "https://localhost:8080/"
        },
        "id": "_oEAogBmCgd9",
        "outputId": "8099121f-ace1-4945-ab74-96c40f8c3f59"
      },
      "execution_count": null,
      "outputs": [
        {
          "output_type": "execute_result",
          "data": {
            "text/plain": [
              "((182, 20), (46, 20), (182,), (46,))"
            ]
          },
          "metadata": {},
          "execution_count": 12
        }
      ]
    },
    {
      "cell_type": "markdown",
      "source": [
        "#Random Forest"
      ],
      "metadata": {
        "id": "f4UDye11EPt4"
      }
    },
    {
      "cell_type": "code",
      "source": [
        "# Création et entraînement du modèle de forêt aléatoire\n",
        "rf_model = RandomForestRegressor(n_estimators=100, random_state=42)\n",
        "rf_model.fit(X_train, y_train)  # Utilisation des données non-standardisées\n",
        "\n",
        "# Prédiction sur les données de test\n",
        "y_pred_rf = rf_model.predict(X_test)\n",
        "\n",
        "# Évaluation du modèle\n",
        "mse_rf = mean_squared_error(y_test, y_pred_rf)\n",
        "r2_rf = r2_score(y_test, y_pred_rf)\n",
        "\n",
        "mse_rf, r2_rf\n"
      ],
      "metadata": {
        "colab": {
          "base_uri": "https://localhost:8080/"
        },
        "id": "h-xlKRL2EPVJ",
        "outputId": "b82ceff5-9c03-427c-8bd7-c7d0d2b49904"
      },
      "execution_count": null,
      "outputs": [
        {
          "output_type": "execute_result",
          "data": {
            "text/plain": [
              "(452703030346.3808, -0.19931356248744603)"
            ]
          },
          "metadata": {},
          "execution_count": 14
        }
      ]
    },
    {
      "cell_type": "markdown",
      "source": [
        "# Neural Network"
      ],
      "metadata": {
        "id": "lmRGWtWtSlTr"
      }
    },
    {
      "cell_type": "code",
      "source": [
        "from sklearn.neural_network import MLPRegressor\n",
        "\n",
        "# Création et entraînement du modèle de réseau de neurones\n",
        "nn_model = MLPRegressor(hidden_layer_sizes=(100,), max_iter=500, random_state=42)\n",
        "nn_model.fit(X_train_scaled, y_train)  # Utilisation des données standardisées\n",
        "\n",
        "# Prédiction sur les données de test\n",
        "y_pred_nn = nn_model.predict(X_test_scaled)\n",
        "\n",
        "# Évaluation du modèle\n",
        "mse_nn = mean_squared_error(y_test, y_pred_nn)\n",
        "r2_nn = r2_score(y_test, y_pred_nn)\n",
        "\n",
        "mse_nn, r2_nn\n"
      ],
      "metadata": {
        "colab": {
          "base_uri": "https://localhost:8080/"
        },
        "id": "Y5LuDgrQE8vu",
        "outputId": "19a3436f-e146-4ec4-99cf-ce5f6e298cab"
      },
      "execution_count": null,
      "outputs": [
        {
          "output_type": "stream",
          "name": "stderr",
          "text": [
            "/usr/local/lib/python3.10/dist-packages/sklearn/neural_network/_multilayer_perceptron.py:686: ConvergenceWarning: Stochastic Optimizer: Maximum iterations (500) reached and the optimization hasn't converged yet.\n",
            "  warnings.warn(\n"
          ]
        },
        {
          "output_type": "execute_result",
          "data": {
            "text/plain": [
              "(532132490161.83655, -0.4097403147555718)"
            ]
          },
          "metadata": {},
          "execution_count": 11
        }
      ]
    },
    {
      "cell_type": "code",
      "source": [
        "# Définition des modèles\n",
        "linear_model = LinearRegression()\n",
        "rf_model = RandomForestRegressor(random_state=42)\n",
        "nn_model = MLPRegressor(random_state=42, max_iter=500)\n",
        "\n",
        "# Entraînement des modèles\n",
        "linear_model.fit(X_train, y_train)\n",
        "rf_model.fit(X_train, y_train)\n",
        "nn_model.fit(X_train, y_train)\n",
        "\n",
        "# Prédictions sur les données de test\n",
        "y_pred_linear = linear_model.predict(X_test)\n",
        "y_pred_rf = rf_model.predict(X_test)\n",
        "y_pred_nn = nn_model.predict(X_test)\n"
      ],
      "metadata": {
        "colab": {
          "base_uri": "https://localhost:8080/"
        },
        "id": "dvabg84rH5UD",
        "outputId": "d7f71c82-64b4-42f9-8462-f385e41771d6"
      },
      "execution_count": null,
      "outputs": [
        {
          "output_type": "stream",
          "name": "stderr",
          "text": [
            "/usr/local/lib/python3.10/dist-packages/sklearn/neural_network/_multilayer_perceptron.py:686: ConvergenceWarning: Stochastic Optimizer: Maximum iterations (500) reached and the optimization hasn't converged yet.\n",
            "  warnings.warn(\n"
          ]
        }
      ]
    },
    {
      "cell_type": "markdown",
      "source": [
        "#Model evalution"
      ],
      "metadata": {
        "id": "gCU9nx2dR_1B"
      }
    },
    {
      "cell_type": "code",
      "source": [
        "# Calcul des scores R²\n",
        "r2_linear = r2_score(y_test, y_pred_linear)\n",
        "r2_rf = r2_score(y_test, y_pred_rf)\n",
        "r2_nn = r2_score(y_test, y_pred_nn)\n",
        "\n",
        "# Création de la liste des scores R²\n",
        "r2_values = [r2_linear, r2_rf, r2_nn]"
      ],
      "metadata": {
        "id": "UyJV3nQnGxqy"
      },
      "execution_count": null,
      "outputs": []
    },
    {
      "cell_type": "code",
      "source": [
        "# Noms des modèles et valeurs R² correspondantes\n",
        "models = ['Linear Regression', 'Random Forest', 'Neural Network']\n",
        "r2_values = [r2_linear, r2_rf, r2_nn]\n",
        "\n",
        "# Création du graphique\n",
        "plt.figure(figsize=(8, 4))\n",
        "plt.bar(models, r2_values, color=['blue', 'green', 'red'])\n",
        "plt.xlabel('Models')\n",
        "plt.ylabel('R² Score')\n",
        "plt.title('Comparison of R² Scores Across Different Models')\n",
        "plt.ylim([-1, 0])  # Limiter l'axe des y pour mieux visualiser les valeurs négatives\n",
        "plt.grid(True, which='both', linestyle='--', linewidth=0.5)\n",
        "plt.axhline(0, color='grey', linewidth=0.8)  # Ligne zéro pour référence\n",
        "plt.show()\n"
      ],
      "metadata": {
        "colab": {
          "base_uri": "https://localhost:8080/",
          "height": 410
        },
        "id": "cNiLmecUGPTV",
        "outputId": "034e99f1-2dab-47be-8044-692d0cef8832"
      },
      "execution_count": null,
      "outputs": [
        {
          "output_type": "display_data",
          "data": {
            "text/plain": [
              "<Figure size 800x400 with 1 Axes>"
            ],
            "image/png": "[encoded data removed]"
          },
          "metadata": {}
        }
      ]
    },
    {
      "cell_type": "markdown",
      "source": [
        "# URL analysis\n"
      ],
      "metadata": {
        "id": "b6_AMjPJMEbS"
      }
    },
    {
      "cell_type": "code",
      "source": [
        "def download_file(url, target_path, expected_hash):\n",
        "    response = requests.get(url, stream=True)\n",
        "    if response.status_code == 200:\n",
        "        with open(target_path, 'wb') as file:\n",
        "            for chunk in response.iter_content(chunk_size=8192):\n",
        "                file.write(chunk)\n",
        "\n",
        "        # Vérification du hash du fichier téléchargé\n",
        "        sha256_hash = hashlib.sha256()\n",
        "        with open(target_path, \"rb\") as f:\n",
        "            for byte_block in iter(lambda: f.read(4096), b\"\"):\n",
        "                sha256_hash.update(byte_block)\n",
        "        file_hash = sha256_hash.hexdigest()\n",
        "\n",
        "        if file_hash != expected_hash:\n",
        "            print(\"Erreur : Le hash du fichier ne correspond pas au hash attendu.\")\n",
        "            print(f\"Hash attendu: {expected_hash}\")\n",
        "            print(f\"Hash obtenu: {file_hash}\")\n",
        "            return False\n",
        "        return True\n",
        "    else:\n",
        "        print(\"Erreur : Impossible de télécharger le fichier.\")\n",
        "        return False\n",
        "\n",
        "# Utilisation de la fonction\n",
        "url = 'https://exemple.com/fichier.zip'\n",
        "expected_hash = '64373286793e3c8b2b4e3219cbf3544b'\n",
        "target_path = '/chemin/vers/le/fichier.zip'\n",
        "\n",
        "if download_file(url, target_path, expected_hash):\n",
        "    print(\"Téléchargement et vérification réussis.\")\n",
        "else:\n",
        "    print(\"Téléchargement échoué ou fichier corrompu.\")\n"
      ],
      "metadata": {
        "colab": {
          "base_uri": "https://localhost:8080/"
        },
        "id": "VeY5tGFvNbmd",
        "outputId": "492f44ab-f28f-434c-8a6b-fe0988adb500"
      },
      "execution_count": null,
      "outputs": [
        {
          "output_type": "stream",
          "name": "stdout",
          "text": [
            "Erreur : Impossible de télécharger le fichier.\n",
            "Téléchargement échoué ou fichier corrompu.\n"
          ]
        }
      ]
    },
    {
      "cell_type": "code",
      "source": [
        "# Chargement du modèle VGG16 pré-entraîné\n",
        "base_model = VGG16(weights='imagenet')\n",
        "model = Model(inputs=base_model.input, outputs=base_model.get_layer('fc1').output)\n",
        "\n",
        "def extract_features_from_url(url):\n",
        "    try:\n",
        "        # Téléchargement de l'image\n",
        "        response = requests.get(url)\n",
        "        img = load_img(BytesIO(response.content), target_size=(224, 224))\n",
        "    except Exception as e:\n",
        "        print(f\"Erreur lors du téléchargement de l'image : {e}\")\n",
        "        return None\n",
        "\n",
        "    # Préparation de l'image pour le modèle VGG16\n",
        "    img_array = img_to_array(img)\n",
        "    img_array_expanded = np.expand_dims(img_array, axis=0)\n",
        "    img_preprocessed = preprocess_input(img_array_expanded)\n",
        "\n",
        "    # Extraction des caractéristiques\n",
        "    features = model.predict(img_preprocessed)\n",
        "    return features.flatten()\n",
        "\n",
        "# Exemple d'utilisation dans un dataframe\n",
        "# data['features'] = data['url'].apply(extract_features_from_url)\n"
      ],
      "metadata": {
        "colab": {
          "base_uri": "https://localhost:8080/",
          "height": 408
        },
        "id": "zSvVOgD2MC65",
        "outputId": "4acce358-23f4-4e28-dcbe-bb6ffb317f51"
      },
      "execution_count": null,
      "outputs": [
        {
          "output_type": "stream",
          "name": "stdout",
          "text": [
            "Downloading data from https://storage.googleapis.com/tensorflow/keras-applications/vgg16/vgg16_weights_tf_dim_ordering_tf_kernels.h5\n",
            "439443456/553467096 [======================>.......] - ETA: 1s"
          ]
        },
        {
          "output_type": "error",
          "ename": "ValueError",
          "evalue": "Incomplete or corrupted file detected. The auto file hash does not match the provided value of 64373286793e3c8b2b4e3219cbf3544b.",
          "traceback": [
            "\u001b[0;31m---------------------------------------------------------------------------\u001b[0m",
            "\u001b[0;31mValueError\u001b[0m                                Traceback (most recent call last)",
            "\u001b[0;32m<ipython-input-20-ccecd6a2733f>\u001b[0m in \u001b[0;36m<cell line: 2>\u001b[0;34m()\u001b[0m\n\u001b[1;32m      1\u001b[0m \u001b[0;31m# Chargement du modèle VGG16 pré-entraîné\u001b[0m\u001b[0;34m\u001b[0m\u001b[0;34m\u001b[0m\u001b[0m\n\u001b[0;32m----> 2\u001b[0;31m \u001b[0mbase_model\u001b[0m \u001b[0;34m=\u001b[0m \u001b[0mVGG16\u001b[0m\u001b[0;34m(\u001b[0m\u001b[0mweights\u001b[0m\u001b[0;34m=\u001b[0m\u001b[0;34m'imagenet'\u001b[0m\u001b[0;34m)\u001b[0m\u001b[0;34m\u001b[0m\u001b[0;34m\u001b[0m\u001b[0m\n\u001b[0m\u001b[1;32m      3\u001b[0m \u001b[0mmodel\u001b[0m \u001b[0;34m=\u001b[0m \u001b[0mModel\u001b[0m\u001b[0;34m(\u001b[0m\u001b[0minputs\u001b[0m\u001b[0;34m=\u001b[0m\u001b[0mbase_model\u001b[0m\u001b[0;34m.\u001b[0m\u001b[0minput\u001b[0m\u001b[0;34m,\u001b[0m \u001b[0moutputs\u001b[0m\u001b[0;34m=\u001b[0m\u001b[0mbase_model\u001b[0m\u001b[0;34m.\u001b[0m\u001b[0mget_layer\u001b[0m\u001b[0;34m(\u001b[0m\u001b[0;34m'fc1'\u001b[0m\u001b[0;34m)\u001b[0m\u001b[0;34m.\u001b[0m\u001b[0moutput\u001b[0m\u001b[0;34m)\u001b[0m\u001b[0;34m\u001b[0m\u001b[0;34m\u001b[0m\u001b[0m\n\u001b[1;32m      4\u001b[0m \u001b[0;34m\u001b[0m\u001b[0m\n\u001b[1;32m      5\u001b[0m \u001b[0;32mdef\u001b[0m \u001b[0mextract_features_from_url\u001b[0m\u001b[0;34m(\u001b[0m\u001b[0murl\u001b[0m\u001b[0;34m)\u001b[0m\u001b[0;34m:\u001b[0m\u001b[0;34m\u001b[0m\u001b[0;34m\u001b[0m\u001b[0m\n",
            "\u001b[0;32m/usr/local/lib/python3.10/dist-packages/keras/src/applications/vgg16.py\u001b[0m in \u001b[0;36mVGG16\u001b[0;34m(include_top, weights, input_tensor, input_shape, pooling, classes, classifier_activation)\u001b[0m\n\u001b[1;32m    233\u001b[0m     \u001b[0;32mif\u001b[0m \u001b[0mweights\u001b[0m \u001b[0;34m==\u001b[0m \u001b[0;34m\"imagenet\"\u001b[0m\u001b[0;34m:\u001b[0m\u001b[0;34m\u001b[0m\u001b[0;34m\u001b[0m\u001b[0m\n\u001b[1;32m    234\u001b[0m         \u001b[0;32mif\u001b[0m \u001b[0minclude_top\u001b[0m\u001b[0;34m:\u001b[0m\u001b[0;34m\u001b[0m\u001b[0;34m\u001b[0m\u001b[0m\n\u001b[0;32m--> 235\u001b[0;31m             weights_path = data_utils.get_file(\n\u001b[0m\u001b[1;32m    236\u001b[0m                 \u001b[0;34m\"vgg16_weights_tf_dim_ordering_tf_kernels.h5\"\u001b[0m\u001b[0;34m,\u001b[0m\u001b[0;34m\u001b[0m\u001b[0;34m\u001b[0m\u001b[0m\n\u001b[1;32m    237\u001b[0m                 \u001b[0mWEIGHTS_PATH\u001b[0m\u001b[0;34m,\u001b[0m\u001b[0;34m\u001b[0m\u001b[0;34m\u001b[0m\u001b[0m\n",
            "\u001b[0;32m/usr/local/lib/python3.10/dist-packages/keras/src/utils/data_utils.py\u001b[0m in \u001b[0;36mget_file\u001b[0;34m(fname, origin, untar, md5_hash, file_hash, cache_subdir, hash_algorithm, extract, archive_format, cache_dir)\u001b[0m\n\u001b[1;32m    360\u001b[0m         \u001b[0;32mif\u001b[0m \u001b[0mos\u001b[0m\u001b[0;34m.\u001b[0m\u001b[0mpath\u001b[0m\u001b[0;34m.\u001b[0m\u001b[0mexists\u001b[0m\u001b[0;34m(\u001b[0m\u001b[0mfpath\u001b[0m\u001b[0;34m)\u001b[0m \u001b[0;32mand\u001b[0m \u001b[0mfile_hash\u001b[0m \u001b[0;32mis\u001b[0m \u001b[0;32mnot\u001b[0m \u001b[0;32mNone\u001b[0m\u001b[0;34m:\u001b[0m\u001b[0;34m\u001b[0m\u001b[0;34m\u001b[0m\u001b[0m\n\u001b[1;32m    361\u001b[0m             \u001b[0;32mif\u001b[0m \u001b[0;32mnot\u001b[0m \u001b[0mvalidate_file\u001b[0m\u001b[0;34m(\u001b[0m\u001b[0mfpath\u001b[0m\u001b[0;34m,\u001b[0m \u001b[0mfile_hash\u001b[0m\u001b[0;34m,\u001b[0m \u001b[0malgorithm\u001b[0m\u001b[0;34m=\u001b[0m\u001b[0mhash_algorithm\u001b[0m\u001b[0;34m)\u001b[0m\u001b[0;34m:\u001b[0m\u001b[0;34m\u001b[0m\u001b[0;34m\u001b[0m\u001b[0m\n\u001b[0;32m--> 362\u001b[0;31m                 raise ValueError(\n\u001b[0m\u001b[1;32m    363\u001b[0m                     \u001b[0;34m\"Incomplete or corrupted file detected. \"\u001b[0m\u001b[0;34m\u001b[0m\u001b[0;34m\u001b[0m\u001b[0m\n\u001b[1;32m    364\u001b[0m                     \u001b[0;34mf\"The {hash_algorithm} \"\u001b[0m\u001b[0;34m\u001b[0m\u001b[0;34m\u001b[0m\u001b[0m\n",
            "\u001b[0;31mValueError\u001b[0m: Incomplete or corrupted file detected. The auto file hash does not match the provided value of 64373286793e3c8b2b4e3219cbf3544b."
          ]
        }
      ]
    },
    {
      "cell_type": "code",
      "source": [],
      "metadata": {
        "id": "oHRNFdMQMX1Q"
      },
      "execution_count": null,
      "outputs": []
    }
  ]
}