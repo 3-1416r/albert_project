{
 "cells": [
  {
   "cell_type": "markdown",
   "metadata": {},
   "source": [
    "# Importation des bibliothèques"
   ]
  },
  {
   "cell_type": "code",
   "execution_count": null,
   "metadata": {},
   "outputs": [],
   "source": [
    "from selenium import webdriver\n",
    "from selenium.webdriver.common.by import By\n",
    "import random\n",
    "import time\n",
    "import pandas as pd"
   ]
  },
  {
   "cell_type": "markdown",
   "metadata": {},
   "source": [
    "# Ouverture du driver"
   ]
  },
  {
   "cell_type": "code",
   "execution_count": null,
   "metadata": {},
   "outputs": [],
   "source": [
    "# Initialiser le WebDriver\n",
    "driver = webdriver.Chrome()  # Utilisez le WebDriver approprié pour votre navigateur\n",
    "\n",
    "# Ouvrir la page du jeu\n",
    "driver.get('https://www.instagram.com/')"
   ]
  },
  {
   "cell_type": "markdown",
   "metadata": {},
   "source": [
    "Connectez vous à votre compte instagram"
   ]
  },
  {
   "cell_type": "code",
   "execution_count": null,
   "metadata": {},
   "outputs": [],
   "source": [
    "driver.get('https://www.instagram.com/instagram/')\n",
    "time.sleep(2)"
   ]
  },
  {
   "cell_type": "markdown",
   "metadata": {},
   "source": [
    "# Récupération des données\n",
    "(allongez les durées des time.sleep() en fonction de la qualité de votre connection)"
   ]
  },
  {
   "cell_type": "code",
   "execution_count": null,
   "metadata": {},
   "outputs": [],
   "source": [
    "posts = []\n",
    "last_height = driver.execute_script(\"return document.body.scrollHeight\")\n",
    "scroll_attempts = 0\n",
    "for _ in range(10):\n",
    "# while True:\n",
    "    # Collecte des posts visibles\n",
    "    path = \"//div[contains(@class, '_ac7v')]//a[contains(@role, 'link')]\"\n",
    "    all_posts = driver.find_elements(By.XPATH, path)\n",
    "    \n",
    "    for post in all_posts:\n",
    "        post_link = post.get_attribute('href')\n",
    "        if not any(post_link in collected_post for collected_post in posts):  # Pour éviter les doublons\n",
    "            post.click()\n",
    "            time.sleep(1)  # Laisser le temps au modal de se charger\n",
    "\n",
    "            # Collecter les données du post\n",
    "            try:\n",
    "                date = driver.find_element(By.XPATH, '//time[@class=\"x1p4m5qa\"]').get_attribute('datetime')\n",
    "                likes = driver.find_element(By.XPATH, '/html/body/div[8]/div[1]/div/div[3]/div/div/div/div/div[2]/div/article/div/div[2]/div/div/div[2]/section[2]/div/div/span/a/span/span').text\n",
    "                comments = driver.find_element(By.XPATH, '/html/body/div[8]/div[1]/div/div[3]/div/div/div/div/div[2]/div/article/div/div[2]/div/div/div[2]/div[1]/ul/div[1]/li/div/div/div[2]/div[1]/h1').text\n",
    "                \n",
    "                posts.append((date, likes, comments, post_link))\n",
    "            \n",
    "                # Fermer le modal du post\n",
    "                close_path = \"/html/body/div[8]/div[1]/div/div[2]/div\"\n",
    "                driver.find_element(By.XPATH, close_path).click()\n",
    "                time.sleep(1)\n",
    "            except Exception as e:\n",
    "                print(\"Error processing post:\", e)\n",
    "    \n",
    "    # Défilement\n",
    "    driver.execute_script(\"window.scrollTo(0, document.body.scrollHeight);\")\n",
    "    time.sleep(3)\n",
    "    \n",
    "    # Vérifier si la page a été défilée jusqu'au bout\n",
    "    new_height = driver.execute_script(\"return document.body.scrollHeight\")\n",
    "    if new_height == last_height:\n",
    "        scroll_attempts += 1\n",
    "        if scroll_attempts >= 3:  # Arrêter après 3 tentatives sans nouveaux éléments\n",
    "            break\n",
    "    else:\n",
    "        scroll_attempts = 0  # réinitialiser le compteur si de nouveaux posts sont chargés\n",
    "    last_height = new_height\n",
    "\n",
    "# Affichage ou sauvegarde des données\n",
    "print(posts)"
   ]
  },
  {
   "cell_type": "code",
   "execution_count": null,
   "metadata": {},
   "outputs": [],
   "source": [
    "post_df =pd.DataFrame(posts)\n",
    "post_df"
   ]
  },
  {
   "cell_type": "markdown",
   "metadata": {},
   "source": [
    "# Extraction dans un csv"
   ]
  },
  {
   "cell_type": "code",
   "execution_count": null,
   "metadata": {},
   "outputs": [],
   "source": [
    "post_df.to_csv('insta_v0.csv', index=False)  "
   ]
  }
 ],
 "metadata": {
  "kernelspec": {
   "display_name": "Python 3",
   "language": "python",
   "name": "python3"
  },
  "language_info": {
   "codemirror_mode": {
    "name": "ipython",
    "version": 3
   },
   "file_extension": ".py",
   "mimetype": "text/x-python",
   "name": "python",
   "nbconvert_exporter": "python",
   "pygments_lexer": "ipython3",
   "version": "3.11.9"
  }
 },
 "nbformat": 4,
 "nbformat_minor": 2
}
